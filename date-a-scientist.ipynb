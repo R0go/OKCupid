{
 "cells": [
  {
   "cell_type": "markdown",
   "metadata": {},
   "source": [
    "PROJECT GOALS:\n",
    "1. Browse the dataset, inspect its shape, features, data types\n",
    "2. Formulate valid questions to analyze through the available data"
   ]
  },
  {
   "cell_type": "code",
   "execution_count": 2,
   "metadata": {},
   "outputs": [],
   "source": [
    "import pandas as pd\n",
    "import numpy as np"
   ]
  },
  {
   "cell_type": "code",
   "execution_count": 16,
   "metadata": {
    "scrolled": true
   },
   "outputs": [
    {
     "name": "stdout",
     "output_type": "stream",
     "text": [
      "###############################################\n",
      "DataFrame info:\n",
      "<class 'pandas.core.frame.DataFrame'>\n",
      "RangeIndex: 59946 entries, 0 to 59945\n",
      "Data columns (total 31 columns):\n",
      " #   Column       Non-Null Count  Dtype  \n",
      "---  ------       --------------  -----  \n",
      " 0   age          59946 non-null  int64  \n",
      " 1   body_type    54650 non-null  object \n",
      " 2   diet         35551 non-null  object \n",
      " 3   drinks       56961 non-null  object \n",
      " 4   drugs        45866 non-null  object \n",
      " 5   education    53318 non-null  object \n",
      " 6   essay0       54458 non-null  object \n",
      " 7   essay1       52374 non-null  object \n",
      " 8   essay2       50308 non-null  object \n",
      " 9   essay3       48470 non-null  object \n",
      " 10  essay4       49409 non-null  object \n",
      " 11  essay5       49096 non-null  object \n",
      " 12  essay6       46175 non-null  object \n",
      " 13  essay7       47495 non-null  object \n",
      " 14  essay8       40721 non-null  object \n",
      " 15  essay9       47343 non-null  object \n",
      " 16  ethnicity    54266 non-null  object \n",
      " 17  height       59943 non-null  float64\n",
      " 18  income       59946 non-null  int64  \n",
      " 19  job          51748 non-null  object \n",
      " 20  last_online  59946 non-null  object \n",
      " 21  location     59946 non-null  object \n",
      " 22  offspring    24385 non-null  object \n",
      " 23  orientation  59946 non-null  object \n",
      " 24  pets         40025 non-null  object \n",
      " 25  religion     39720 non-null  object \n",
      " 26  sex          59946 non-null  object \n",
      " 27  sign         48890 non-null  object \n",
      " 28  smokes       54434 non-null  object \n",
      " 29  speaks       59896 non-null  object \n",
      " 30  status       59946 non-null  object \n",
      "dtypes: float64(1), int64(2), object(28)\n",
      "memory usage: 14.2+ MB\n",
      "None\n",
      "###############################################\n",
      "DataFrame sample:\n",
      "age uniques: 54\n",
      "body_type uniques: 12\n",
      "diet uniques: 18\n",
      "drinks uniques: 6\n",
      "drugs uniques: 3\n",
      "education uniques: 32\n",
      "ethnicity uniques: 217\n",
      "height uniques: 60\n",
      "income uniques: 13\n",
      "job uniques: 21\n",
      "last_online uniques: 30123\n",
      "location uniques: 199\n",
      "offspring uniques: 15\n",
      "orientation uniques: 3\n",
      "pets uniques: 15\n",
      "religion uniques: 45\n",
      "sex uniques: 2\n",
      "sign uniques: 48\n",
      "smokes uniques: 5\n",
      "speaks uniques: 7647\n",
      "status uniques: 5\n"
     ]
    }
   ],
   "source": [
    "data_file = pd.read_csv('profiles.csv')\n",
    "print('''###############################################\n",
    "DataFrame info:''')\n",
    "print(data_file.info())\n",
    "print('''###############################################\n",
    "DataFrame sample:''')\n",
    "#data_file.head()\n",
    "features_of_interest = ['body_type', 'job','diet', 'drinks', 'drugs', 'education', 'orientation','sex', 'smokes', 'status', 'religion', 'ethnicity']\n",
    "\n",
    "#removing unwanted features\n",
    "data_file = data_file.drop(columns=['essay0','essay1','essay2','essay3','essay4','essay5','essay6','essay7','essay8','essay9','last_online'])\n",
    "for i in data_file.columns:\n",
    "    uniques= data_file[i].nunique()\n",
    "    print(f'{i} uniques: {uniques}')\n",
    "# data_file.head()\n",
    "    \n"
   ]
  },
  {
   "cell_type": "markdown",
   "metadata": {},
   "source": [
    "Possible predictions:\n",
    "1. Predict the zodiac sign\n",
    "2. Predict sex\n",
    "3. Predict religion\n",
    "4. Predict drugs\n",
    "5. Predict your ideal partner's age based on other criteria\n",
    "6. Predict your ideal partner's religion based on other criteria"
   ]
  },
  {
   "cell_type": "markdown",
   "metadata": {},
   "source": [
    "Data Cleanup:\n",
    "age          59946 non-null  int64  - check data distribution\n",
    "body_type    54650 non-null  object - create categories, check distribution\n",
    "diet         35551 non-null  object - bin data, check distribution\n",
    "drinks       56961 non-null  object - create categories, check distribution\n",
    "drugs        45866 non-null  object - create categories, check distribution\n",
    "education    53318 non-null  object - bin data, check distribution\n",
    "ethnicity    54266 non-null  object - ? too many combinations\n",
    "height       59943 non-null  float64 - check data distribution\n",
    "income       59946 non-null  int64  - check data distribution\n",
    "job          51748 non-null  object - check data distribution\n",
    "last_online  59946 non-null  object - disregard\n",
    "location     59946 non-null  object - bin data, check distribution\n",
    "offspring    24385 non-null  object - check data distribution, probably disregard due to high nan count\n",
    "orientation  59946 non-null  object  - check data distribution\n",
    "pets         40025 non-null  object  - check data distribution\n",
    "religion     39720 non-null  object  - check data distribution\n",
    "sex          59946 non-null  object  - check data distribution\n",
    "sign         48890 non-null  object  - check data distribution\n",
    "smokes       54434 non-null  object - create categories, check distribution\n",
    "speaks       59896 non-null  object - bin data, check distribution\n",
    "status       59946 non-null  object - check data distribution"
   ]
  }
 ],
 "metadata": {
  "kernelspec": {
   "display_name": "Python 3 (ipykernel)",
   "language": "python",
   "name": "python3"
  },
  "language_info": {
   "codemirror_mode": {
    "name": "ipython",
    "version": 3
   },
   "file_extension": ".py",
   "mimetype": "text/x-python",
   "name": "python",
   "nbconvert_exporter": "python",
   "pygments_lexer": "ipython3",
   "version": "3.9.5"
  }
 },
 "nbformat": 4,
 "nbformat_minor": 4
}
