{
 "cells": [
  {
   "cell_type": "markdown",
   "metadata": {},
   "source": [
    "PROJECT PLAN\n",
    "\n",
    "Project Scoping\n",
    "\n",
    "1. Load and browse the dataset, inspect its shape, features, data types\n",
    "2. Formulate valid questions to analyze through the available data\n",
    "\n",
    "Data analysis\n",
    "\n",
    "3. Data cleanup\n",
    "4. Data analysis (relationships)\n",
    "\n",
    "Machine learning\n",
    "\n",
    "5. Feature engineering\n",
    "6. Hyperparameter tuning\n",
    "7. Creating and evaluating the model"
   ]
  },
  {
   "cell_type": "markdown",
   "metadata": {},
   "source": [
    "# INTRODUCTION\n"
   ]
  },
  {
   "cell_type": "markdown",
   "metadata": {},
   "source": [
    "This project analyzes data from on-line dating application OKCupid. The dataset has been provided by Codecademy and the project will focus on summarizing the available data, formulating valid questions pertaining to the available data and finally building and testing a machine learning model to answer the formulated questions. Particularly, the project will focus on predicting the zodiac sign based on the personal data provided by a user."
   ]
  },
  {
   "cell_type": "markdown",
   "metadata": {},
   "source": [
    "# PROJECT SCOPING"
   ]
  },
  {
   "cell_type": "markdown",
   "metadata": {},
   "source": [
    "## Loading and summarizing the data"
   ]
  },
  {
   "cell_type": "code",
   "execution_count": 1,
   "metadata": {},
   "outputs": [],
   "source": [
    "import pandas as pd\n",
    "import numpy as np\n",
    "from matplotlib import pyplot as plt\n",
    "import seaborn as sns"
   ]
  },
  {
   "cell_type": "code",
   "execution_count": 2,
   "metadata": {
    "scrolled": true
   },
   "outputs": [
    {
     "name": "stdout",
     "output_type": "stream",
     "text": [
      "DataFrame columns: 31\n",
      "DataFrame rows: 59946\n",
      "DataFrame info:\n",
      "<class 'pandas.core.frame.DataFrame'>\n",
      "RangeIndex: 59946 entries, 0 to 59945\n",
      "Data columns (total 31 columns):\n",
      " #   Column       Non-Null Count  Dtype  \n",
      "---  ------       --------------  -----  \n",
      " 0   age          59946 non-null  int64  \n",
      " 1   body_type    54650 non-null  object \n",
      " 2   diet         35551 non-null  object \n",
      " 3   drinks       56961 non-null  object \n",
      " 4   drugs        45866 non-null  object \n",
      " 5   education    53318 non-null  object \n",
      " 6   essay0       54458 non-null  object \n",
      " 7   essay1       52374 non-null  object \n",
      " 8   essay2       50308 non-null  object \n",
      " 9   essay3       48470 non-null  object \n",
      " 10  essay4       49409 non-null  object \n",
      " 11  essay5       49096 non-null  object \n",
      " 12  essay6       46175 non-null  object \n",
      " 13  essay7       47495 non-null  object \n",
      " 14  essay8       40721 non-null  object \n",
      " 15  essay9       47343 non-null  object \n",
      " 16  ethnicity    54266 non-null  object \n",
      " 17  height       59943 non-null  float64\n",
      " 18  income       59946 non-null  int64  \n",
      " 19  job          51748 non-null  object \n",
      " 20  last_online  59946 non-null  object \n",
      " 21  location     59946 non-null  object \n",
      " 22  offspring    24385 non-null  object \n",
      " 23  orientation  59946 non-null  object \n",
      " 24  pets         40025 non-null  object \n",
      " 25  religion     39720 non-null  object \n",
      " 26  sex          59946 non-null  object \n",
      " 27  sign         48890 non-null  object \n",
      " 28  smokes       54434 non-null  object \n",
      " 29  speaks       59896 non-null  object \n",
      " 30  status       59946 non-null  object \n",
      "dtypes: float64(1), int64(2), object(28)\n",
      "memory usage: 14.2+ MB\n",
      "None\n"
     ]
    }
   ],
   "source": [
    "data_file = pd.read_csv('profiles.csv')\n",
    "print(f'DataFrame columns: {data_file.shape[1]}')\n",
    "print(f'DataFrame rows: {data_file.shape[0]}')\n",
    "print('DataFrame info:')\n",
    "print(data_file.info())\n",
    "\n"
   ]
  },
  {
   "cell_type": "markdown",
   "metadata": {},
   "source": [
    "DataFrame sample:"
   ]
  },
  {
   "cell_type": "code",
   "execution_count": 3,
   "metadata": {
    "scrolled": true
   },
   "outputs": [
    {
     "data": {
      "text/html": [
       "<div>\n",
       "<style scoped>\n",
       "    .dataframe tbody tr th:only-of-type {\n",
       "        vertical-align: middle;\n",
       "    }\n",
       "\n",
       "    .dataframe tbody tr th {\n",
       "        vertical-align: top;\n",
       "    }\n",
       "\n",
       "    .dataframe thead th {\n",
       "        text-align: right;\n",
       "    }\n",
       "</style>\n",
       "<table border=\"1\" class=\"dataframe\">\n",
       "  <thead>\n",
       "    <tr style=\"text-align: right;\">\n",
       "      <th></th>\n",
       "      <th>age</th>\n",
       "      <th>body_type</th>\n",
       "      <th>diet</th>\n",
       "      <th>drinks</th>\n",
       "      <th>drugs</th>\n",
       "      <th>education</th>\n",
       "      <th>essay0</th>\n",
       "      <th>essay1</th>\n",
       "      <th>essay2</th>\n",
       "      <th>essay3</th>\n",
       "      <th>...</th>\n",
       "      <th>location</th>\n",
       "      <th>offspring</th>\n",
       "      <th>orientation</th>\n",
       "      <th>pets</th>\n",
       "      <th>religion</th>\n",
       "      <th>sex</th>\n",
       "      <th>sign</th>\n",
       "      <th>smokes</th>\n",
       "      <th>speaks</th>\n",
       "      <th>status</th>\n",
       "    </tr>\n",
       "  </thead>\n",
       "  <tbody>\n",
       "    <tr>\n",
       "      <th>0</th>\n",
       "      <td>22</td>\n",
       "      <td>a little extra</td>\n",
       "      <td>strictly anything</td>\n",
       "      <td>socially</td>\n",
       "      <td>never</td>\n",
       "      <td>working on college/university</td>\n",
       "      <td>about me:&lt;br /&gt;\\n&lt;br /&gt;\\ni would love to think...</td>\n",
       "      <td>currently working as an international agent fo...</td>\n",
       "      <td>making people laugh.&lt;br /&gt;\\nranting about a go...</td>\n",
       "      <td>the way i look. i am a six foot half asian, ha...</td>\n",
       "      <td>...</td>\n",
       "      <td>south san francisco, california</td>\n",
       "      <td>doesn&amp;rsquo;t have kids, but might want them</td>\n",
       "      <td>straight</td>\n",
       "      <td>likes dogs and likes cats</td>\n",
       "      <td>agnosticism and very serious about it</td>\n",
       "      <td>m</td>\n",
       "      <td>gemini</td>\n",
       "      <td>sometimes</td>\n",
       "      <td>english</td>\n",
       "      <td>single</td>\n",
       "    </tr>\n",
       "    <tr>\n",
       "      <th>1</th>\n",
       "      <td>35</td>\n",
       "      <td>average</td>\n",
       "      <td>mostly other</td>\n",
       "      <td>often</td>\n",
       "      <td>sometimes</td>\n",
       "      <td>working on space camp</td>\n",
       "      <td>i am a chef: this is what that means.&lt;br /&gt;\\n1...</td>\n",
       "      <td>dedicating everyday to being an unbelievable b...</td>\n",
       "      <td>being silly. having ridiculous amonts of fun w...</td>\n",
       "      <td>NaN</td>\n",
       "      <td>...</td>\n",
       "      <td>oakland, california</td>\n",
       "      <td>doesn&amp;rsquo;t have kids, but might want them</td>\n",
       "      <td>straight</td>\n",
       "      <td>likes dogs and likes cats</td>\n",
       "      <td>agnosticism but not too serious about it</td>\n",
       "      <td>m</td>\n",
       "      <td>cancer</td>\n",
       "      <td>no</td>\n",
       "      <td>english (fluently), spanish (poorly), french (...</td>\n",
       "      <td>single</td>\n",
       "    </tr>\n",
       "    <tr>\n",
       "      <th>2</th>\n",
       "      <td>38</td>\n",
       "      <td>thin</td>\n",
       "      <td>anything</td>\n",
       "      <td>socially</td>\n",
       "      <td>NaN</td>\n",
       "      <td>graduated from masters program</td>\n",
       "      <td>i'm not ashamed of much, but writing public te...</td>\n",
       "      <td>i make nerdy software for musicians, artists, ...</td>\n",
       "      <td>improvising in different contexts. alternating...</td>\n",
       "      <td>my large jaw and large glasses are the physica...</td>\n",
       "      <td>...</td>\n",
       "      <td>san francisco, california</td>\n",
       "      <td>NaN</td>\n",
       "      <td>straight</td>\n",
       "      <td>has cats</td>\n",
       "      <td>NaN</td>\n",
       "      <td>m</td>\n",
       "      <td>pisces but it doesn&amp;rsquo;t matter</td>\n",
       "      <td>no</td>\n",
       "      <td>english, french, c++</td>\n",
       "      <td>available</td>\n",
       "    </tr>\n",
       "    <tr>\n",
       "      <th>3</th>\n",
       "      <td>23</td>\n",
       "      <td>thin</td>\n",
       "      <td>vegetarian</td>\n",
       "      <td>socially</td>\n",
       "      <td>NaN</td>\n",
       "      <td>working on college/university</td>\n",
       "      <td>i work in a library and go to school. . .</td>\n",
       "      <td>reading things written by old dead people</td>\n",
       "      <td>playing synthesizers and organizing books acco...</td>\n",
       "      <td>socially awkward but i do my best</td>\n",
       "      <td>...</td>\n",
       "      <td>berkeley, california</td>\n",
       "      <td>doesn&amp;rsquo;t want kids</td>\n",
       "      <td>straight</td>\n",
       "      <td>likes cats</td>\n",
       "      <td>NaN</td>\n",
       "      <td>m</td>\n",
       "      <td>pisces</td>\n",
       "      <td>no</td>\n",
       "      <td>english, german (poorly)</td>\n",
       "      <td>single</td>\n",
       "    </tr>\n",
       "    <tr>\n",
       "      <th>4</th>\n",
       "      <td>29</td>\n",
       "      <td>athletic</td>\n",
       "      <td>NaN</td>\n",
       "      <td>socially</td>\n",
       "      <td>never</td>\n",
       "      <td>graduated from college/university</td>\n",
       "      <td>hey how's it going? currently vague on the pro...</td>\n",
       "      <td>work work work work + play</td>\n",
       "      <td>creating imagery to look at:&lt;br /&gt;\\nhttp://bag...</td>\n",
       "      <td>i smile a lot and my inquisitive nature</td>\n",
       "      <td>...</td>\n",
       "      <td>san francisco, california</td>\n",
       "      <td>NaN</td>\n",
       "      <td>straight</td>\n",
       "      <td>likes dogs and likes cats</td>\n",
       "      <td>NaN</td>\n",
       "      <td>m</td>\n",
       "      <td>aquarius</td>\n",
       "      <td>no</td>\n",
       "      <td>english</td>\n",
       "      <td>single</td>\n",
       "    </tr>\n",
       "  </tbody>\n",
       "</table>\n",
       "<p>5 rows × 31 columns</p>\n",
       "</div>"
      ],
      "text/plain": [
       "   age       body_type               diet    drinks      drugs  \\\n",
       "0   22  a little extra  strictly anything  socially      never   \n",
       "1   35         average       mostly other     often  sometimes   \n",
       "2   38            thin           anything  socially        NaN   \n",
       "3   23            thin         vegetarian  socially        NaN   \n",
       "4   29        athletic                NaN  socially      never   \n",
       "\n",
       "                           education  \\\n",
       "0      working on college/university   \n",
       "1              working on space camp   \n",
       "2     graduated from masters program   \n",
       "3      working on college/university   \n",
       "4  graduated from college/university   \n",
       "\n",
       "                                              essay0  \\\n",
       "0  about me:<br />\\n<br />\\ni would love to think...   \n",
       "1  i am a chef: this is what that means.<br />\\n1...   \n",
       "2  i'm not ashamed of much, but writing public te...   \n",
       "3          i work in a library and go to school. . .   \n",
       "4  hey how's it going? currently vague on the pro...   \n",
       "\n",
       "                                              essay1  \\\n",
       "0  currently working as an international agent fo...   \n",
       "1  dedicating everyday to being an unbelievable b...   \n",
       "2  i make nerdy software for musicians, artists, ...   \n",
       "3          reading things written by old dead people   \n",
       "4                         work work work work + play   \n",
       "\n",
       "                                              essay2  \\\n",
       "0  making people laugh.<br />\\nranting about a go...   \n",
       "1  being silly. having ridiculous amonts of fun w...   \n",
       "2  improvising in different contexts. alternating...   \n",
       "3  playing synthesizers and organizing books acco...   \n",
       "4  creating imagery to look at:<br />\\nhttp://bag...   \n",
       "\n",
       "                                              essay3  ...  \\\n",
       "0  the way i look. i am a six foot half asian, ha...  ...   \n",
       "1                                                NaN  ...   \n",
       "2  my large jaw and large glasses are the physica...  ...   \n",
       "3                  socially awkward but i do my best  ...   \n",
       "4            i smile a lot and my inquisitive nature  ...   \n",
       "\n",
       "                          location  \\\n",
       "0  south san francisco, california   \n",
       "1              oakland, california   \n",
       "2        san francisco, california   \n",
       "3             berkeley, california   \n",
       "4        san francisco, california   \n",
       "\n",
       "                                      offspring orientation  \\\n",
       "0  doesn&rsquo;t have kids, but might want them    straight   \n",
       "1  doesn&rsquo;t have kids, but might want them    straight   \n",
       "2                                           NaN    straight   \n",
       "3                       doesn&rsquo;t want kids    straight   \n",
       "4                                           NaN    straight   \n",
       "\n",
       "                        pets                                  religion sex  \\\n",
       "0  likes dogs and likes cats     agnosticism and very serious about it   m   \n",
       "1  likes dogs and likes cats  agnosticism but not too serious about it   m   \n",
       "2                   has cats                                       NaN   m   \n",
       "3                 likes cats                                       NaN   m   \n",
       "4  likes dogs and likes cats                                       NaN   m   \n",
       "\n",
       "                                 sign     smokes  \\\n",
       "0                              gemini  sometimes   \n",
       "1                              cancer         no   \n",
       "2  pisces but it doesn&rsquo;t matter         no   \n",
       "3                              pisces         no   \n",
       "4                            aquarius         no   \n",
       "\n",
       "                                              speaks     status  \n",
       "0                                            english     single  \n",
       "1  english (fluently), spanish (poorly), french (...     single  \n",
       "2                               english, french, c++  available  \n",
       "3                           english, german (poorly)     single  \n",
       "4                                            english     single  \n",
       "\n",
       "[5 rows x 31 columns]"
      ]
     },
     "execution_count": 3,
     "metadata": {},
     "output_type": "execute_result"
    }
   ],
   "source": [
    "data_file.head()"
   ]
  },
  {
   "cell_type": "markdown",
   "metadata": {},
   "source": [
    "## Goal of the project"
   ]
  },
  {
   "cell_type": "markdown",
   "metadata": {},
   "source": [
    "Possible predictions:\n",
    "1. Predict the zodiac sign\n",
    "2. Predict sex\n",
    "3. Predict religion\n",
    "4. Predict drugs\n",
    "5. Predict your ideal partner's age based on other criteria\n",
    "6. Predict your ideal partner's religion based on other criteria\n",
    "\n",
    "Question to analyze:\n",
    "Build a model that predicts a zodiac sign based on the data\n",
    "\n",
    "Steps:\n",
    "1. Cleanup data\n",
    "2. Select features\n",
    "3. Select model\n",
    "4. Select hyperparameters"
   ]
  },
  {
   "cell_type": "markdown",
   "metadata": {},
   "source": [
    "# DATA ANALYSIS"
   ]
  },
  {
   "cell_type": "markdown",
   "metadata": {},
   "source": [
    "## DATA CLEANUP"
   ]
  },
  {
   "cell_type": "markdown",
   "metadata": {},
   "source": [
    "AIs:\n",
    "1. Handle nans\n",
    "2. Check for outliers\n",
    "3. Create bins/categories"
   ]
  },
  {
   "cell_type": "markdown",
   "metadata": {},
   "source": [
    "### Reducing the unique values for categorical features and handling nans"
   ]
  },
  {
   "cell_type": "markdown",
   "metadata": {},
   "source": [
    "First glance at the data shows a number of features that can be ignored for our purposes, specifically the \"essay\" comments and the \"last online\" information."
   ]
  },
  {
   "cell_type": "code",
   "execution_count": 4,
   "metadata": {},
   "outputs": [],
   "source": [
    "#features_of_interest = ['body_type', 'job','diet', 'drinks', 'drugs', 'education', 'orientation','sex', 'smokes', 'status', 'religion', 'ethnicity']\n",
    "#removing unwanted features\n",
    "data_file = data_file.drop(columns=['essay0','essay1','essay2','essay3','essay4','essay5','essay6','essay7','essay8','essay9','last_online'])\n"
   ]
  },
  {
   "cell_type": "markdown",
   "metadata": {},
   "source": [
    "Since most of the available features are of an \"object\" type, let's see how many unique values they hold."
   ]
  },
  {
   "cell_type": "code",
   "execution_count": 5,
   "metadata": {},
   "outputs": [
    {
     "name": "stdout",
     "output_type": "stream",
     "text": [
      "int64\n",
      "object\n"
     ]
    }
   ],
   "source": [
    "print(data_file['age'].dtype)\n",
    "print(data_file['job'].dtype)"
   ]
  },
  {
   "cell_type": "code",
   "execution_count": 6,
   "metadata": {},
   "outputs": [
    {
     "name": "stdout",
     "output_type": "stream",
     "text": [
      "body_type has 12 unique values: \n",
      "        ['a little extra' 'average' 'thin' 'athletic' 'fit' nan 'skinny' 'curvy'\n",
      " 'full figured' 'jacked' 'rather not say' 'used up' 'overweight']\n",
      "diet has 18 unique values: \n",
      "        ['strictly anything' 'mostly other' 'anything' 'vegetarian' nan\n",
      " 'mostly anything' 'mostly vegetarian' 'strictly vegan'\n",
      " 'strictly vegetarian' 'mostly vegan' 'strictly other' 'mostly halal'\n",
      " 'other' 'vegan' 'mostly kosher' 'strictly halal' 'halal'\n",
      " 'strictly kosher' 'kosher']\n",
      "drinks has 6 unique values: \n",
      "        ['socially' 'often' 'not at all' 'rarely' nan 'very often' 'desperately']\n",
      "drugs has 3 unique values: \n",
      "        ['never' 'sometimes' nan 'often']\n",
      "education has 32 unique values: \n",
      "        ['working on college/university' 'working on space camp'\n",
      " 'graduated from masters program' 'graduated from college/university'\n",
      " 'working on two-year college' nan 'graduated from high school'\n",
      " 'working on masters program' 'graduated from space camp'\n",
      " 'college/university' 'dropped out of space camp'\n",
      " 'graduated from ph.d program' 'graduated from law school'\n",
      " 'working on ph.d program' 'two-year college'\n",
      " 'graduated from two-year college' 'working on med school'\n",
      " 'dropped out of college/university' 'space camp'\n",
      " 'graduated from med school' 'dropped out of high school'\n",
      " 'working on high school' 'masters program' 'dropped out of ph.d program'\n",
      " 'dropped out of two-year college' 'dropped out of med school'\n",
      " 'high school' 'working on law school' 'law school'\n",
      " 'dropped out of masters program' 'ph.d program'\n",
      " 'dropped out of law school' 'med school']\n",
      "ethnicity has 217 unique values: \n",
      "        ['asian, white' 'white' nan 'asian, black, other' 'white, other'\n",
      " 'hispanic / latin, white' 'hispanic / latin' 'pacific islander, white'\n",
      " 'asian' 'black, white' 'pacific islander' 'asian, native american'\n",
      " 'asian, pacific islander' 'black, native american, white'\n",
      " 'middle eastern, other' 'native american, white' 'indian' 'black'\n",
      " 'black, native american, hispanic / latin, other'\n",
      " 'black, native american, hispanic / latin'\n",
      " 'asian, black, pacific islander'\n",
      " 'asian, middle eastern, black, native american, indian, pacific islander, hispanic / latin, white, other'\n",
      " 'other' 'hispanic / latin, other' 'asian, black' 'middle eastern, white'\n",
      " 'native american, white, other' 'black, native american'\n",
      " 'black, white, other' 'hispanic / latin, white, other' 'middle eastern'\n",
      " 'black, other' 'native american, hispanic / latin, white' 'black, indian'\n",
      " 'indian, white, other' 'middle eastern, indian, other'\n",
      " 'black, native american, hispanic / latin, white, other'\n",
      " 'pacific islander, hispanic / latin' 'black, hispanic / latin, white'\n",
      " 'native american' 'indian, white' 'asian, white, other'\n",
      " 'black, hispanic / latin' 'asian, hispanic / latin, white'\n",
      " 'middle eastern, hispanic / latin'\n",
      " 'asian, black, native american, pacific islander, white'\n",
      " 'middle eastern, indian' 'asian, indian' 'pacific islander, other'\n",
      " 'black, native american, white, other' 'black, pacific islander'\n",
      " 'middle eastern, native american, white'\n",
      " 'asian, native american, white, other'\n",
      " 'pacific islander, hispanic / latin, white' 'indian, other'\n",
      " 'asian, pacific islander, other' 'black, hispanic / latin, other'\n",
      " 'asian, black, native american'\n",
      " 'black, native american, hispanic / latin, white'\n",
      " 'native american, hispanic / latin' 'indian, hispanic / latin'\n",
      " 'native american, pacific islander'\n",
      " 'asian, black, native american, hispanic / latin, white'\n",
      " 'asian, black, white'\n",
      " 'asian, black, native american, pacific islander, other'\n",
      " 'middle eastern, hispanic / latin, white'\n",
      " 'asian, pacific islander, white'\n",
      " 'asian, native american, hispanic / latin, white, other'\n",
      " 'asian, hispanic / latin' 'asian, pacific islander, white, other'\n",
      " 'middle eastern, white, other'\n",
      " 'asian, pacific islander, hispanic / latin'\n",
      " 'black, native american, indian, other'\n",
      " 'native american, hispanic / latin, white, other'\n",
      " 'black, native american, other' 'asian, other'\n",
      " 'middle eastern, hispanic / latin, other'\n",
      " 'pacific islander, hispanic / latin, white, other'\n",
      " 'asian, black, hispanic / latin'\n",
      " 'asian, pacific islander, hispanic / latin, white'\n",
      " 'asian, black, native american, white'\n",
      " 'asian, middle eastern, white, other'\n",
      " 'native american, pacific islander, hispanic / latin'\n",
      " 'asian, native american, white'\n",
      " 'native american, pacific islander, hispanic / latin, white, other'\n",
      " 'indian, pacific islander' 'asian, middle eastern, black'\n",
      " 'asian, middle eastern, indian' 'asian, middle eastern, white'\n",
      " 'pacific islander, white, other'\n",
      " 'black, pacific islander, hispanic / latin' 'asian, middle eastern'\n",
      " 'asian, hispanic / latin, other'\n",
      " 'middle eastern, black, native american, indian, white, other'\n",
      " 'middle eastern, pacific islander, other' 'middle eastern, black'\n",
      " 'asian, indian, pacific islander'\n",
      " 'black, native american, pacific islander' 'native american, indian'\n",
      " 'asian, middle eastern, black, native american, indian, pacific islander, hispanic / latin, white'\n",
      " 'black, indian, other'\n",
      " 'asian, middle eastern, indian, hispanic / latin, white, other'\n",
      " 'middle eastern, black, white' 'asian, hispanic / latin, white, other'\n",
      " 'native american, hispanic / latin, other'\n",
      " 'middle eastern, black, pacific islander, white'\n",
      " 'asian, black, native american, hispanic / latin'\n",
      " 'native american, other' 'black, indian, white'\n",
      " 'asian, native american, hispanic / latin, white'\n",
      " 'black, native american, indian, white'\n",
      " 'middle eastern, black, indian, pacific islander, hispanic / latin, white'\n",
      " 'middle eastern, hispanic / latin, white, other'\n",
      " 'asian, black, native american, other'\n",
      " 'native american, pacific islander, hispanic / latin, white'\n",
      " 'asian, indian, other'\n",
      " 'middle eastern, native american, hispanic / latin, white, other'\n",
      " 'asian, middle eastern, black, pacific islander, hispanic / latin, white'\n",
      " 'black, native american, pacific islander, hispanic / latin, white, other'\n",
      " 'asian, middle eastern, native american, hispanic / latin, white'\n",
      " 'asian, middle eastern, black, native american, pacific islander, hispanic / latin, white, other'\n",
      " 'asian, indian, white' 'native american, pacific islander, white, other'\n",
      " 'middle eastern, black, native american, indian, pacific islander, hispanic / latin, white'\n",
      " 'asian, middle eastern, other' 'middle eastern, pacific islander'\n",
      " 'asian, black, hispanic / latin, other'\n",
      " 'asian, middle eastern, black, native american, hispanic / latin, white'\n",
      " 'middle eastern, black, hispanic / latin'\n",
      " 'black, pacific islander, white'\n",
      " 'asian, middle eastern, black, native american, indian, pacific islander, hispanic / latin, other'\n",
      " 'middle eastern, black, native american, indian, hispanic / latin, white'\n",
      " 'asian, pacific islander, hispanic / latin, white, other'\n",
      " 'middle eastern, indian, white' 'asian, indian, white, other'\n",
      " 'middle eastern, black, native american, white, other'\n",
      " 'black, native american, pacific islander, other'\n",
      " 'middle eastern, black, native american, white'\n",
      " 'asian, indian, pacific islander, other'\n",
      " 'asian, black, native american, white, other'\n",
      " 'black, indian, hispanic / latin, white'\n",
      " 'asian, middle eastern, black, native american, indian, pacific islander, white'\n",
      " 'asian, black, pacific islander, hispanic / latin'\n",
      " 'middle eastern, black, native american, indian, pacific islander, hispanic / latin, white, other'\n",
      " 'asian, black, native american, indian'\n",
      " 'asian, black, indian, hispanic / latin, other'\n",
      " 'indian, hispanic / latin, other' 'asian, indian, hispanic / latin'\n",
      " 'asian, native american, pacific islander, white, other'\n",
      " 'asian, black, native american, indian, hispanic / latin, white, other'\n",
      " 'asian, indian, hispanic / latin, white'\n",
      " 'pacific islander, hispanic / latin, other'\n",
      " 'asian, indian, pacific islander, hispanic / latin, white, other'\n",
      " 'indian, hispanic / latin, white'\n",
      " 'asian, native american, pacific islander, hispanic / latin, white, other'\n",
      " 'asian, pacific islander, hispanic / latin, other'\n",
      " 'asian, black, hispanic / latin, white, other'\n",
      " 'black, indian, hispanic / latin'\n",
      " 'middle eastern, black, native american, hispanic / latin, white'\n",
      " 'black, pacific islander, other'\n",
      " 'black, native american, pacific islander, white'\n",
      " 'asian, black, native american, pacific islander'\n",
      " 'asian, indian, hispanic / latin, other'\n",
      " 'middle eastern, native american'\n",
      " 'middle eastern, native american, hispanic / latin'\n",
      " 'black, hispanic / latin, white, other'\n",
      " 'asian, native american, pacific islander, hispanic / latin, white'\n",
      " 'asian, native american, hispanic / latin'\n",
      " 'black, native american, indian, hispanic / latin, white, other'\n",
      " 'asian, middle eastern, hispanic / latin, white'\n",
      " 'black, native american, pacific islander, white, other'\n",
      " 'native american, indian, pacific islander, hispanic / latin'\n",
      " 'black, indian, white, other'\n",
      " 'asian, middle eastern, native american, pacific islander, hispanic / latin, white, other'\n",
      " 'native american, pacific islander, white'\n",
      " 'middle eastern, indian, white, other' 'asian, black, white, other'\n",
      " 'middle eastern, native american, hispanic / latin, white'\n",
      " 'indian, hispanic / latin, white, other'\n",
      " 'asian, middle eastern, black, pacific islander'\n",
      " 'asian, middle eastern, black, indian, pacific islander, hispanic / latin, white'\n",
      " 'asian, middle eastern, indian, other'\n",
      " 'asian, middle eastern, black, white, other'\n",
      " 'black, native american, pacific islander, hispanic / latin, white'\n",
      " 'black, native american, indian, pacific islander, hispanic / latin'\n",
      " 'asian, black, pacific islander, white'\n",
      " 'middle eastern, pacific islander, hispanic / latin'\n",
      " 'black, native american, indian, white, other'\n",
      " 'asian, black, hispanic / latin, white'\n",
      " 'asian, black, native american, indian, pacific islander, white'\n",
      " 'asian, black, native american, indian, pacific islander, hispanic / latin'\n",
      " 'asian, middle eastern, hispanic / latin, white, other'\n",
      " 'middle eastern, black, native american, indian'\n",
      " 'asian, native american, pacific islander'\n",
      " 'asian, black, native american, pacific islander, white, other'\n",
      " 'asian, middle eastern, hispanic / latin'\n",
      " 'asian, black, pacific islander, other'\n",
      " 'asian, native american, indian, pacific islander, hispanic / latin, white'\n",
      " 'middle eastern, native american, white, other'\n",
      " 'asian, native american, hispanic / latin, other'\n",
      " 'native american, indian, white'\n",
      " 'black, native american, pacific islander, hispanic / latin'\n",
      " 'asian, native american, pacific islander, white'\n",
      " 'black, native american, indian'\n",
      " 'indian, pacific islander, hispanic / latin, white'\n",
      " 'asian, middle eastern, black, native american, indian, pacific islander, hispanic / latin'\n",
      " 'asian, middle eastern, indian, hispanic / latin'\n",
      " 'asian, middle eastern, native american, pacific islander, other'\n",
      " 'black, native american, indian, pacific islander'\n",
      " 'asian, middle eastern, native american, pacific islander, white, other'\n",
      " 'asian, native american, other' 'middle eastern, black, other'\n",
      " 'asian, black, pacific islander, hispanic / latin, white'\n",
      " 'asian, middle eastern, native american, indian, pacific islander, hispanic / latin, white'\n",
      " 'asian, native american, indian, pacific islander, hispanic / latin, white, other'\n",
      " 'asian, middle eastern, black, pacific islander, hispanic / latin'\n",
      " 'asian, black, pacific islander, white, other' 'asian, black, indian']\n",
      "job has 21 unique values: \n",
      "        ['transportation' 'hospitality / travel' nan 'student'\n",
      " 'artistic / musical / writer' 'computer / hardware / software'\n",
      " 'banking / financial / real estate' 'entertainment / media'\n",
      " 'sales / marketing / biz dev' 'other' 'medicine / health'\n",
      " 'science / tech / engineering' 'executive / management'\n",
      " 'education / academia' 'clerical / administrative'\n",
      " 'construction / craftsmanship' 'rather not say' 'political / government'\n",
      " 'law / legal services' 'unemployed' 'military' 'retired']\n",
      "location has 199 unique values: \n",
      "        ['south san francisco, california' 'oakland, california'\n",
      " 'san francisco, california' 'berkeley, california'\n",
      " 'belvedere tiburon, california' 'san mateo, california'\n",
      " 'daly city, california' 'san leandro, california' 'atherton, california'\n",
      " 'san rafael, california' 'walnut creek, california'\n",
      " 'menlo park, california' 'belmont, california' 'san jose, california'\n",
      " 'palo alto, california' 'emeryville, california' 'el granada, california'\n",
      " 'castro valley, california' 'fairfax, california'\n",
      " 'mountain view, california' 'burlingame, california'\n",
      " 'martinez, california' 'pleasant hill, california' 'hayward, california'\n",
      " 'alameda, california' 'vallejo, california' 'benicia, california'\n",
      " 'el cerrito, california' 'mill valley, california' 'richmond, california'\n",
      " 'redwood city, california' 'el sobrante, california'\n",
      " 'stanford, california' 'san pablo, california' 'novato, california'\n",
      " 'pacifica, california' 'lafayette, california'\n",
      " 'half moon bay, california' 'fremont, california' 'orinda, california'\n",
      " 'san anselmo, california' 'corte madera, california' 'albany, california'\n",
      " 'san carlos, california' 'san lorenzo, california'\n",
      " 'foster city, california' 'hercules, california' 'santa cruz, california'\n",
      " 'bolinas, california' 'sausalito, california' 'millbrae, california'\n",
      " 'larkspur, california' 'moraga, california' 'san bruno, california'\n",
      " 'petaluma, california' 'pinole, california' 'san geronimo, california'\n",
      " 'crockett, california' 'boulder, colorado' 'brisbane, california'\n",
      " 'freedom, california' 'montara, california' 'green brae, california'\n",
      " 'woodside, california' 'new york, new york' 'ross, california'\n",
      " 'east palo alto, california' 'san quentin, california' 'portland, oregon'\n",
      " 'rodeo, california' 'hacienda heights, california' 'woodacre, california'\n",
      " 'westlake, california' 'riverside, california' 'rohnert park, california'\n",
      " 'sacramento, california' 'point richmond, california'\n",
      " 'san diego, california' 'canyon country, california' 'tucson, arizona'\n",
      " 'honolulu, hawaii' 'billings, montana' 'west oakland, california'\n",
      " 'kentfield, california' 'milwaukee, wisconsin' 'woodbridge, virginia'\n",
      " 'glencove, california' 'tiburon, california' 'madrid, spain'\n",
      " 'las vegas, nevada' 'peoria, illinois' 'santa monica, california'\n",
      " 'bellwood, illinois' 'los angeles, california' 'moss beach, california'\n",
      " 'nha trang, vietnam' 'hillsborough, california' 'olema, california'\n",
      " 'union city, california' 'colma, california' 'cork, ireland'\n",
      " 'new orleans, louisiana' 'kensington, california'\n",
      " 'redwood shores, california' 'utica, michigan' 'brea, california'\n",
      " 'lagunitas, california' 'stinson beach, california'\n",
      " 'santa clara, california' 'studio city, california' 'concord, california'\n",
      " 'piedmont, california' 'grand rapids, michigan' 'seaside, california'\n",
      " 'leander, texas' 'forest knolls, california' 'edinburgh, united kingdom'\n",
      " 'magalia, california' 'london, united kingdom' 'astoria, new york'\n",
      " 'chicago, illinois' 'orange, california' 'south wellfleet, massachusetts'\n",
      " 'bayshore, california' 'asheville, north carolina'\n",
      " 'los gatos, california' 'boise, idaho' 'islip terrace, new york'\n",
      " 'sunnyvale, california' 'cambridge, massachusetts' 'lake orion, michigan'\n",
      " 'ozone park, new york' 'jackson, mississippi' 'ashland, california'\n",
      " 'south orange, new jersey' 'fort lauderdale, florida'\n",
      " 'minneapolis, minnesota' 'pasadena, california' 'atlanta, georgia'\n",
      " 'salt lake city, utah' 'arcadia, california' 'milpitas, california'\n",
      " 'san antonio, texas' 'port costa, california' 'nicasio, california'\n",
      " 'livingston, california' 'bellingham, washington' 'crowley, texas'\n",
      " 'boston, massachusetts' 'longwood, florida' 'fayetteville, west virginia'\n",
      " 'granite bay, california' 'isla vista, california' 'hilarita, california'\n",
      " 'campbell, california' 'stratford, connecticut' 'santa ana, california'\n",
      " 'santa rosa, california' 'kula, hawaii' 'murfreesboro, tennessee'\n",
      " 'brooklyn, new york' 'north hollywood, california'\n",
      " 'nevada city, california' 'providence, rhode island'\n",
      " 'stockton, california' 'marin city, california'\n",
      " 'washington, district of columbia' 'waterford, california'\n",
      " 'vancouver, british columbia, canada' 'muir beach, california'\n",
      " 'pacheco, california' 'irvine, california' 'kansas city, missouri'\n",
      " 'kassel, germany' 'canyon, california' 'philadelphia, pennsylvania'\n",
      " 'oceanview, california' 'long beach, new york' 'amsterdam, netherlands'\n",
      " 'taunton, massachusetts' 'napa, california' 'austin, texas'\n",
      " 'san luis obispo, california' 'modesto, california'\n",
      " 'bonaduz, switzerland' 'costa mesa, california' 'guadalajara, mexico'\n",
      " 'oakley, california' 'columbus, ohio' 'chico, california'\n",
      " 'south lake tahoe, california' 'vacaville, california' 'miami, florida'\n",
      " 'long beach, california' 'denver, colorado' 'seattle, washington'\n",
      " 'cincinnati, ohio' 'phoenix, arizona' 'rochester, michigan']\n",
      "offspring has 15 unique values: \n",
      "        ['doesn&rsquo;t have kids, but might want them' nan\n",
      " 'doesn&rsquo;t want kids' 'doesn&rsquo;t have kids, but wants them'\n",
      " 'doesn&rsquo;t have kids' 'wants kids' 'has a kid' 'has kids'\n",
      " 'doesn&rsquo;t have kids, and doesn&rsquo;t want any'\n",
      " 'has kids, but doesn&rsquo;t want more'\n",
      " 'has a kid, but doesn&rsquo;t want more' 'has a kid, and wants more'\n",
      " 'has kids, and might want more' 'might want kids'\n",
      " 'has a kid, and might want more' 'has kids, and wants more']\n",
      "orientation has 3 unique values: \n",
      "        ['straight' 'bisexual' 'gay']\n",
      "pets has 15 unique values: \n",
      "        ['likes dogs and likes cats' 'has cats' 'likes cats' nan\n",
      " 'has dogs and likes cats' 'likes dogs and has cats'\n",
      " 'likes dogs and dislikes cats' 'has dogs' 'has dogs and dislikes cats'\n",
      " 'likes dogs' 'has dogs and has cats' 'dislikes dogs and has cats'\n",
      " 'dislikes dogs and dislikes cats' 'dislikes cats'\n",
      " 'dislikes dogs and likes cats' 'dislikes dogs']\n",
      "religion has 45 unique values: \n",
      "        ['agnosticism and very serious about it'\n",
      " 'agnosticism but not too serious about it' nan 'atheism' 'christianity'\n",
      " 'christianity but not too serious about it'\n",
      " 'atheism and laughing about it' 'christianity and very serious about it'\n",
      " 'other' 'catholicism' 'catholicism but not too serious about it'\n",
      " 'catholicism and somewhat serious about it'\n",
      " 'agnosticism and somewhat serious about it'\n",
      " 'catholicism and laughing about it' 'agnosticism and laughing about it'\n",
      " 'agnosticism' 'atheism and somewhat serious about it'\n",
      " 'buddhism but not too serious about it'\n",
      " 'other but not too serious about it' 'buddhism'\n",
      " 'other and laughing about it' 'judaism but not too serious about it'\n",
      " 'buddhism and laughing about it' 'other and somewhat serious about it'\n",
      " 'other and very serious about it' 'hinduism but not too serious about it'\n",
      " 'atheism but not too serious about it' 'judaism'\n",
      " 'christianity and somewhat serious about it'\n",
      " 'hinduism and very serious about it' 'atheism and very serious about it'\n",
      " 'judaism and laughing about it' 'christianity and laughing about it'\n",
      " 'hinduism and laughing about it' 'buddhism and somewhat serious about it'\n",
      " 'islam and very serious about it' 'islam' 'hinduism'\n",
      " 'judaism and somewhat serious about it'\n",
      " 'catholicism and very serious about it'\n",
      " 'judaism and very serious about it'\n",
      " 'hinduism and somewhat serious about it'\n",
      " 'islam but not too serious about it' 'buddhism and very serious about it'\n",
      " 'islam and laughing about it' 'islam and somewhat serious about it']\n",
      "sex has 2 unique values: \n",
      "        ['m' 'f']\n",
      "sign has 48 unique values: \n",
      "        ['gemini' 'cancer' 'pisces but it doesn&rsquo;t matter' 'pisces'\n",
      " 'aquarius' 'taurus' 'virgo' 'sagittarius'\n",
      " 'gemini but it doesn&rsquo;t matter' 'cancer but it doesn&rsquo;t matter'\n",
      " 'leo but it doesn&rsquo;t matter' nan\n",
      " 'aquarius but it doesn&rsquo;t matter'\n",
      " 'aries and it&rsquo;s fun to think about'\n",
      " 'libra but it doesn&rsquo;t matter'\n",
      " 'pisces and it&rsquo;s fun to think about' 'libra'\n",
      " 'taurus but it doesn&rsquo;t matter'\n",
      " 'sagittarius but it doesn&rsquo;t matter' 'scorpio and it matters a lot'\n",
      " 'gemini and it&rsquo;s fun to think about'\n",
      " 'leo and it&rsquo;s fun to think about'\n",
      " 'cancer and it&rsquo;s fun to think about'\n",
      " 'libra and it&rsquo;s fun to think about'\n",
      " 'aquarius and it&rsquo;s fun to think about'\n",
      " 'virgo but it doesn&rsquo;t matter'\n",
      " 'scorpio and it&rsquo;s fun to think about'\n",
      " 'capricorn but it doesn&rsquo;t matter' 'scorpio'\n",
      " 'capricorn and it&rsquo;s fun to think about' 'leo'\n",
      " 'aries but it doesn&rsquo;t matter' 'aries'\n",
      " 'scorpio but it doesn&rsquo;t matter'\n",
      " 'sagittarius and it&rsquo;s fun to think about'\n",
      " 'libra and it matters a lot' 'taurus and it&rsquo;s fun to think about'\n",
      " 'leo and it matters a lot' 'virgo and it&rsquo;s fun to think about'\n",
      " 'cancer and it matters a lot' 'capricorn' 'pisces and it matters a lot'\n",
      " 'aries and it matters a lot' 'capricorn and it matters a lot'\n",
      " 'aquarius and it matters a lot' 'sagittarius and it matters a lot'\n",
      " 'gemini and it matters a lot' 'taurus and it matters a lot'\n",
      " 'virgo and it matters a lot']\n",
      "smokes has 5 unique values: \n",
      "        ['sometimes' 'no' nan 'when drinking' 'yes' 'trying to quit']\n",
      "speaks has 7647 unique values: \n",
      "        ['english' 'english (fluently), spanish (poorly), french (poorly)'\n",
      " 'english, french, c++' ...\n",
      " 'english (fluently), hindi (poorly), french (poorly), tamil (okay), spanish (poorly)'\n",
      " 'english (fluently), french (poorly), japanese (poorly), latin (poorly)'\n",
      " 'english (fluently), french, farsi']\n",
      "status has 5 unique values: \n",
      "        ['single' 'available' 'seeing someone' 'married' 'unknown']\n",
      "###########SUMMARY##########\n",
      "{'body_type': 12, 'diet': 18, 'drinks': 6, 'drugs': 3, 'education': 32, 'ethnicity': 217, 'job': 21, 'location': 199, 'offspring': 15, 'orientation': 3, 'pets': 15, 'religion': 45, 'sex': 2, 'sign': 48, 'smokes': 5, 'speaks': 7647, 'status': 5}\n"
     ]
    },
    {
     "data": {
      "image/png": "[encoded data removed]",
      "text/plain": [
       "<Figure size 1080x360 with 1 Axes>"
      ]
     },
     "metadata": {
      "needs_background": "light"
     },
     "output_type": "display_data"
    }
   ],
   "source": [
    "unique_dict = {}\n",
    "for i in data_file.columns:\n",
    "    if data_file[i].dtype == 'object':\n",
    "        uniques= data_file[i].unique()\n",
    "        nuniques= data_file[i].nunique()\n",
    "        unique_dict[i] = nuniques\n",
    "        print(f'''{i} has {nuniques} unique values: \n",
    "        {uniques}''')\n",
    "print('###########SUMMARY##########')\n",
    "print(unique_dict)\n",
    "\n",
    "unique_df = pd.DataFrame.from_dict(unique_dict, orient='index', dtype=None, columns=(['uniques']))\n",
    "unique_df.reset_index(inplace=True)\n",
    "unique_df = unique_df.rename(columns = {'index':'feature'})\n",
    "\n",
    "plt.figure(figsize=(15,5))\n",
    "sns.barplot(data=unique_df, x='feature',y='uniques', order=unique_df.sort_values('uniques', ascending=False).feature)\n",
    "plt.show()"
   ]
  },
  {
   "cell_type": "markdown",
   "metadata": {},
   "source": [
    "Some object type features have many more unique values than anticipated: 217 unique values for ethnicity, 48 unique values for the zodiac sign and 7647 unique values for the spoken language are especially surprising. This is due to providing a combination of answers, e.g. mixed ethnicities and languages, commenting on your zodiac sign etc. Also, the location has 199 unique values, which is not surprising, however it can be reduced to include just the country/state instead of the exact city. These values need to be generalized in order to make them valuable for data modeling."
   ]
  },
  {
   "cell_type": "code",
   "execution_count": 7,
   "metadata": {},
   "outputs": [
    {
     "name": "stdout",
     "output_type": "stream",
     "text": [
      "body_type has 12 unique values: \n",
      "        ['a little extra' 'average' 'thin' 'athletic' 'fit' nan 'skinny' 'curvy'\n",
      " 'full figured' 'jacked' 'rather not say' 'used up' 'overweight']\n",
      "diet has 18 unique values: \n",
      "        ['strictly anything' 'mostly other' 'anything' 'vegetarian' nan\n",
      " 'mostly anything' 'mostly vegetarian' 'strictly vegan'\n",
      " 'strictly vegetarian' 'mostly vegan' 'strictly other' 'mostly halal'\n",
      " 'other' 'vegan' 'mostly kosher' 'strictly halal' 'halal'\n",
      " 'strictly kosher' 'kosher']\n",
      "drinks has 6 unique values: \n",
      "        ['socially' 'often' 'not at all' 'rarely' nan 'very often' 'desperately']\n",
      "drugs has 3 unique values: \n",
      "        ['never' 'sometimes' nan 'often']\n",
      "education has 32 unique values: \n",
      "        ['working on college/university' 'working on space camp'\n",
      " 'graduated from masters program' 'graduated from college/university'\n",
      " 'working on two-year college' nan 'graduated from high school'\n",
      " 'working on masters program' 'graduated from space camp'\n",
      " 'college/university' 'dropped out of space camp'\n",
      " 'graduated from ph.d program' 'graduated from law school'\n",
      " 'working on ph.d program' 'two-year college'\n",
      " 'graduated from two-year college' 'working on med school'\n",
      " 'dropped out of college/university' 'space camp'\n",
      " 'graduated from med school' 'dropped out of high school'\n",
      " 'working on high school' 'masters program' 'dropped out of ph.d program'\n",
      " 'dropped out of two-year college' 'dropped out of med school'\n",
      " 'high school' 'working on law school' 'law school'\n",
      " 'dropped out of masters program' 'ph.d program'\n",
      " 'dropped out of law school' 'med school']\n",
      "ethnicity has 10 unique values: \n",
      "        ['asian' 'white' 'nan' 'hispanic / latin' 'pacific islander' 'black'\n",
      " 'middle eastern' 'native american' 'indian' 'other']\n",
      "job has 21 unique values: \n",
      "        ['transportation' 'hospitality / travel' nan 'student'\n",
      " 'artistic / musical / writer' 'computer / hardware / software'\n",
      " 'banking / financial / real estate' 'entertainment / media'\n",
      " 'sales / marketing / biz dev' 'other' 'medicine / health'\n",
      " 'science / tech / engineering' 'executive / management'\n",
      " 'education / academia' 'clerical / administrative'\n",
      " 'construction / craftsmanship' 'rather not say' 'political / government'\n",
      " 'law / legal services' 'unemployed' 'military' 'retired']\n",
      "location has 41 unique values: \n",
      "        [' california' ' colorado' ' new york' ' oregon' ' arizona' ' hawaii'\n",
      " ' montana' ' wisconsin' ' virginia' ' spain' ' nevada' ' illinois'\n",
      " ' vietnam' ' ireland' ' louisiana' ' michigan' ' texas' ' united kingdom'\n",
      " ' massachusetts' ' north carolina' ' idaho' ' mississippi' ' new jersey'\n",
      " ' florida' ' minnesota' ' georgia' ' utah' ' washington' ' west virginia'\n",
      " ' connecticut' ' tennessee' ' rhode island' ' district of columbia'\n",
      " ' canada' ' missouri' ' germany' ' pennsylvania' ' netherlands'\n",
      " ' switzerland' ' mexico' ' ohio']\n",
      "offspring has 15 unique values: \n",
      "        ['doesn&rsquo;t have kids, but might want them' nan\n",
      " 'doesn&rsquo;t want kids' 'doesn&rsquo;t have kids, but wants them'\n",
      " 'doesn&rsquo;t have kids' 'wants kids' 'has a kid' 'has kids'\n",
      " 'doesn&rsquo;t have kids, and doesn&rsquo;t want any'\n",
      " 'has kids, but doesn&rsquo;t want more'\n",
      " 'has a kid, but doesn&rsquo;t want more' 'has a kid, and wants more'\n",
      " 'has kids, and might want more' 'might want kids'\n",
      " 'has a kid, and might want more' 'has kids, and wants more']\n",
      "orientation has 3 unique values: \n",
      "        ['straight' 'bisexual' 'gay']\n",
      "pets has 15 unique values: \n",
      "        ['likes dogs and likes cats' 'has cats' 'likes cats' nan\n",
      " 'has dogs and likes cats' 'likes dogs and has cats'\n",
      " 'likes dogs and dislikes cats' 'has dogs' 'has dogs and dislikes cats'\n",
      " 'likes dogs' 'has dogs and has cats' 'dislikes dogs and has cats'\n",
      " 'dislikes dogs and dislikes cats' 'dislikes cats'\n",
      " 'dislikes dogs and likes cats' 'dislikes dogs']\n",
      "religion has 10 unique values: \n",
      "        ['agnosticism' 'nan' 'atheism' 'christianity' 'other' 'catholicism'\n",
      " 'buddhism' 'judaism' 'hinduism' 'islam']\n",
      "sex has 2 unique values: \n",
      "        ['m' 'f']\n",
      "sign has 13 unique values: \n",
      "        ['gemini' 'cancer' 'pisces' 'aquarius' 'taurus' 'virgo' 'sagittarius'\n",
      " 'leo' 'nan' 'aries' 'libra' 'scorpio' 'capricorn']\n",
      "smokes has 5 unique values: \n",
      "        ['sometimes' 'no' nan 'when drinking' 'yes' 'trying to quit']\n",
      "speaks has 5 unique values: \n",
      "        ['english' 'nan' 'afrikaans' 'french' 'portuguese']\n",
      "status has 5 unique values: \n",
      "        ['single' 'available' 'seeing someone' 'married' 'unknown']\n",
      "###########SUMMARY##########\n",
      "{'body_type': 12, 'diet': 18, 'drinks': 6, 'drugs': 3, 'education': 32, 'ethnicity': 10, 'job': 21, 'location': 41, 'offspring': 15, 'orientation': 3, 'pets': 15, 'religion': 10, 'sex': 2, 'sign': 13, 'smokes': 5, 'speaks': 5, 'status': 5}\n"
     ]
    }
   ],
   "source": [
    "#we will modify the \"speaks\" feature to reflect only the first language provided\n",
    "def leave_first_word(x):\n",
    "    x_mod = str(x).split()[0]\n",
    "    x_mod = x_mod.split(',')[0]\n",
    "    return x_mod\n",
    "\n",
    "data_file['speaks'] = data_file['speaks'].apply(leave_first_word)\n",
    "\n",
    "#we will modify the \"signs\" feature to include only the first word, i.e. the sign itself, without the commentary\n",
    "data_file['sign'] = data_file['sign'].apply(leave_first_word)\n",
    "\n",
    "#we will modify the \"religion\" feature to include only the first word, i.e. the religion itself, without the commentary\n",
    "data_file['religion'] = data_file['religion'].apply(leave_first_word)\n",
    "\n",
    "#we will modify the \"ethnicity\" feature to include only the primary ethnicity, without the full mixture\n",
    "def split_by_comma(x):\n",
    "    x_mod = str(x).split(',')[0]\n",
    "    return x_mod\n",
    "data_file['ethnicity'] = data_file['ethnicity'].apply(split_by_comma)\n",
    "\n",
    "#we will modify the \"location\" feature to include only the state/country (no city)      \n",
    "def leave_last(x):\n",
    "    x_mod = str(x).split(',')[-1]\n",
    "    return x_mod\n",
    "\n",
    "data_file['location'] = data_file['location'].apply(leave_last)\n",
    "\n",
    "unique_dict = {}\n",
    "for i in data_file.columns:\n",
    "    if data_file[i].dtype == 'object':\n",
    "        uniques= data_file[i].unique()\n",
    "        nuniques= data_file[i].nunique()\n",
    "        unique_dict[i] = nuniques\n",
    "        print(f'''{i} has {nuniques} unique values: \n",
    "        {uniques}''')\n",
    "        \n",
    " \n",
    "        \n",
    "print('###########SUMMARY##########')\n",
    "print(unique_dict)"
   ]
  },
  {
   "cell_type": "markdown",
   "metadata": {},
   "source": [
    "After unifying the data for some features, the number of their unique values became more manageable and easier to aggregate."
   ]
  },
  {
   "cell_type": "code",
   "execution_count": 8,
   "metadata": {},
   "outputs": [
    {
     "data": {
      "image/png": "[encoded data removed]",
      "text/plain": [
       "<Figure size 1080x360 with 1 Axes>"
      ]
     },
     "metadata": {
      "needs_background": "light"
     },
     "output_type": "display_data"
    }
   ],
   "source": [
    "unique_df = pd.DataFrame.from_dict(unique_dict, orient='index', dtype=None, columns=(['uniques']))\n",
    "unique_df.reset_index(inplace=True)\n",
    "unique_df = unique_df.rename(columns = {'index':'feature'})\n",
    "plt.figure(figsize=(15,5))\n",
    "sns.barplot(data=unique_df, x='feature',y='uniques', order=unique_df.sort_values('uniques', ascending=False).feature)\n",
    "plt.show()\n"
   ]
  },
  {
   "cell_type": "markdown",
   "metadata": {},
   "source": [
    "Other object type features' unique values can be binned into broader categories as well."
   ]
  },
  {
   "cell_type": "code",
   "execution_count": 9,
   "metadata": {},
   "outputs": [
    {
     "name": "stdout",
     "output_type": "stream",
     "text": [
      "New body type unique values: ['large' 'medium' 'small' 'athletic' 'no info']\n"
     ]
    }
   ],
   "source": [
    "#filling nans in the body type feature\n",
    "data_file.body_type = data_file.body_type.fillna('no info')\n",
    "\n",
    "#creating categories for the \"body type\" feature\n",
    "body_type_categories = {'a little extra':'large', 'average':'medium', 'thin':'small', 'athletic':'athletic', 'fit':'athletic', 'skinny':'small', 'curvy':'large', 'full figured':'large', 'jacked':'athletic', 'rather not say':'no info', 'used up':'no info', 'overweight':'large', 'no info':'no info'}\n",
    "\n",
    "data_file.body_type = data_file.body_type.apply(lambda x: body_type_categories[x])\n",
    "print(f'New body type unique values: {data_file.body_type.unique()}')\n",
    "\n"
   ]
  },
  {
   "cell_type": "code",
   "execution_count": 10,
   "metadata": {},
   "outputs": [
    {
     "name": "stdout",
     "output_type": "stream",
     "text": [
      "New education unique values: ['college/university student' 'graduate' 'no info' 'primary' 'PHD' 'none']\n"
     ]
    }
   ],
   "source": [
    "#filling nans in the education feature\n",
    "data_file.education = data_file.education.fillna('no info')\n",
    "\n",
    "#creating categories for the \"body type\" feature\n",
    "education_categories = {'working on ph.d program':'graduate','no info':'no info', 'working on college/university':'college/university student','working on space camp':'college/university student','graduated from masters program':'graduate','graduated from college/university':'graduate','working on two-year college':'college/university student','graduated from high school':'primary','working on masters program':'college/university student','graduated from space camp':'graduate','college/university':'graduate','dropped out of space camp':'primary', 'graduated from ph.d program':'PHD','two-year college':'graduate','graduated from two-year college':'graduate','working on med school':'college/university student','dropped out of college/university':'primary','space camp':'college/university student','graduated from med school':'graduate', 'dropped out of high school':'none', 'working on high school':'none', 'masters program':'college/university student','dropped out of ph.d program':'graduate', 'dropped out of two-year college':'primary', 'dropped out of med school':'primary', 'high school':'primary', 'working on law school':'college/university student','law school':'college/university student','dropped out of masters program':'primary','ph.d program':'PHD','dropped out of law school':'primary', 'med school':'graduate','graduated from law school':'graduate'}\n",
    "data_file.education = data_file.education.apply(lambda x: education_categories[x])\n",
    "print(f'New education unique values: {data_file.education.unique()}')"
   ]
  },
  {
   "cell_type": "code",
   "execution_count": 11,
   "metadata": {},
   "outputs": [
    {
     "name": "stdout",
     "output_type": "stream",
     "text": [
      "New diet unique values: ['anything' 'other' 'vegetarian' 'vegan' 'halal' 'kosher']\n"
     ]
    }
   ],
   "source": [
    "#filling nans in the diet feature\n",
    "data_file.diet = data_file.diet.fillna('other')\n",
    "\n",
    "#creating categories for the \"diet\" feature\n",
    "diet_categories = {'other':'other', 'strictly anything':'anything', 'mostly other':'other', 'anything':'anything','vegetarian':'vegetarian','mostly anything':'anything','mostly vegetarian':'vegetarian', 'strictly vegan':'vegan','strictly vegetarian':'vegetarian', 'mostly vegan':'vegan', 'strictly other':'other', 'mostly halal':'halal', 'vegan':'vegan', 'mostly kosher':'kosher', 'strictly halal':'halal', 'halal':'halal', 'strictly kosher':'kosher', 'kosher':'kosher'}\n",
    "data_file.diet = data_file.diet.apply(lambda x: diet_categories[x])\n",
    "print(f'New diet unique values: {data_file.diet.unique()}')"
   ]
  },
  {
   "cell_type": "code",
   "execution_count": 12,
   "metadata": {},
   "outputs": [
    {
     "name": "stdout",
     "output_type": "stream",
     "text": [
      "New offspring unique values: ['no kids, but wants' 'no info' 'not wanting kids' 'no kids' 'has kid(s)']\n"
     ]
    }
   ],
   "source": [
    "#filling nans in the offspring feature\n",
    "data_file.offspring = data_file.offspring.fillna('no info')\n",
    "\n",
    "#creating categories for the \"offspring\" feature\n",
    "offspring_categories = {'has a kid, but doesn&rsquo;t want more':'has kid(s)','no info':'no info', 'doesn&rsquo;t have kids, but might want them':'no kids, but wants','doesn&rsquo;t have kids, but might want them':'no kids, but wants', 'doesn&rsquo;t have kids, but wants them':'no kids, but wants','doesn&rsquo;t want kids':'not wanting kids', 'doesn&rsquo;t have kids':'no kids', 'wants kids':'no kids, but wants', 'has a kid':'has kid(s)', 'has kids':'has kid(s)', 'doesn&rsquo;t have kids, and doesn&rsquo;t want any':'not wanting kids','has kids, but doesn&rsquo;t want more':'has kid(s)', 'has a kid, and wants more':'has kid(s)', 'has kids, and might want more':'has kid(s)', 'might want kids':'no kids, but wants', 'has a kid, and might want more':'has kid(s)', 'has kids, and wants more':'has kid(s)'}\n",
    "data_file.offspring = data_file.offspring.apply(lambda x: offspring_categories[x])\n",
    "print(f'New offspring unique values: {data_file.offspring.unique()}')"
   ]
  },
  {
   "cell_type": "code",
   "execution_count": 13,
   "metadata": {},
   "outputs": [
    {
     "name": "stdout",
     "output_type": "stream",
     "text": [
      "New pets unique values: ['likes cats and dogs' 'likes cats' 'no info'\n",
      " 'likes dogs and dislikes cats' 'likes dogs'\n",
      " 'likes cats and dislikes dogs' 'dislikes both cats and dogs'\n",
      " 'dislikes cats' 'dislikes dogs']\n"
     ]
    }
   ],
   "source": [
    "#filling nans in the pets feature\n",
    "data_file.pets = data_file.pets.fillna('no info')\n",
    "\n",
    "#creating categories for the \"pets\" feature\n",
    "pets_categories = {'no info':'no info', 'likes cats':'likes cats','likes dogs and likes cats':'likes cats and dogs', 'has cats':'likes cats', 'has dogs and likes cats':'likes cats and dogs', 'likes dogs and has cats':'likes cats and dogs', 'likes dogs and dislikes cats':'likes dogs and dislikes cats', 'has dogs':'likes dogs', 'has dogs and dislikes cats':'likes dogs and dislikes cats','likes dogs':'likes dogs', 'has dogs and has cats':'likes cats and dogs', 'dislikes dogs and has cats':'likes cats and dislikes dogs', 'dislikes dogs and dislikes cats':'dislikes both cats and dogs', 'dislikes cats':'dislikes cats', 'dislikes dogs and likes cats':'likes cats and dislikes dogs', 'dislikes dogs':'dislikes dogs'}\n",
    "data_file.pets = data_file.pets.apply(lambda x: pets_categories[x])\n",
    "print(f'New pets unique values: {data_file.pets.unique()}')"
   ]
  },
  {
   "cell_type": "code",
   "execution_count": 14,
   "metadata": {},
   "outputs": [
    {
     "name": "stdout",
     "output_type": "stream",
     "text": [
      "New drinks unique values: ['sometimes' 'often' 'never' 'rarely' 'no info' 'very often']\n",
      "New smokes unique values: ['sometimes' 'never' 'no info' 'often' 'trying to quit']\n",
      "New drugs unique values: ['never' 'sometimes' 'no info' 'often']\n"
     ]
    }
   ],
   "source": [
    "#filling nans in the drugs and smokes and drinks feature and #creating categories for the drugs and smokes and drinks feature\n",
    "new_categories = {'no info':'no info', 'socially':'sometimes', 'often':'often', 'not at all':'never', 'rarely':'rarely', 'very often':'very often', 'desperately':'very often', 'never':'never', 'sometimes':'sometimes', 'no':'never', 'when drinking':'sometimes', 'yes':'often', 'trying to quit':'trying to quit'}\n",
    "\n",
    "for i in ['drinks', 'smokes', 'drugs']:\n",
    "    data_file[i] = data_file[i].fillna('no info')\n",
    "    data_file[i] = data_file[i].apply(lambda x: new_categories[x])\n",
    "    print(f'New {i} unique values: {data_file[i].unique()}')\n"
   ]
  },
  {
   "cell_type": "code",
   "execution_count": 15,
   "metadata": {},
   "outputs": [
    {
     "name": "stdout",
     "output_type": "stream",
     "text": [
      "New status unique values: ['available' 'seeing someone' 'married' 'no info']\n"
     ]
    }
   ],
   "source": [
    "\n",
    "#creating categories for the \"status\" feature\n",
    "data_file.status = data_file.status.replace(to_replace='single', value='available')\n",
    "data_file.status = data_file.status.replace(to_replace='unknown', value='no info')\n",
    "print(f'New status unique values: {data_file.status.unique()}')"
   ]
  },
  {
   "cell_type": "code",
   "execution_count": 16,
   "metadata": {},
   "outputs": [
    {
     "name": "stdout",
     "output_type": "stream",
     "text": [
      "body_type has 5 unique values: \n",
      "        ['large' 'medium' 'small' 'athletic' 'no info']\n",
      "diet has 6 unique values: \n",
      "        ['anything' 'other' 'vegetarian' 'vegan' 'halal' 'kosher']\n",
      "drinks has 6 unique values: \n",
      "        ['sometimes' 'often' 'never' 'rarely' 'no info' 'very often']\n",
      "drugs has 4 unique values: \n",
      "        ['never' 'sometimes' 'no info' 'often']\n",
      "education has 6 unique values: \n",
      "        ['college/university student' 'graduate' 'no info' 'primary' 'PHD' 'none']\n",
      "ethnicity has 10 unique values: \n",
      "        ['asian' 'white' 'nan' 'hispanic / latin' 'pacific islander' 'black'\n",
      " 'middle eastern' 'native american' 'indian' 'other']\n",
      "job has 21 unique values: \n",
      "        ['transportation' 'hospitality / travel' nan 'student'\n",
      " 'artistic / musical / writer' 'computer / hardware / software'\n",
      " 'banking / financial / real estate' 'entertainment / media'\n",
      " 'sales / marketing / biz dev' 'other' 'medicine / health'\n",
      " 'science / tech / engineering' 'executive / management'\n",
      " 'education / academia' 'clerical / administrative'\n",
      " 'construction / craftsmanship' 'rather not say' 'political / government'\n",
      " 'law / legal services' 'unemployed' 'military' 'retired']\n",
      "location has 41 unique values: \n",
      "        [' california' ' colorado' ' new york' ' oregon' ' arizona' ' hawaii'\n",
      " ' montana' ' wisconsin' ' virginia' ' spain' ' nevada' ' illinois'\n",
      " ' vietnam' ' ireland' ' louisiana' ' michigan' ' texas' ' united kingdom'\n",
      " ' massachusetts' ' north carolina' ' idaho' ' mississippi' ' new jersey'\n",
      " ' florida' ' minnesota' ' georgia' ' utah' ' washington' ' west virginia'\n",
      " ' connecticut' ' tennessee' ' rhode island' ' district of columbia'\n",
      " ' canada' ' missouri' ' germany' ' pennsylvania' ' netherlands'\n",
      " ' switzerland' ' mexico' ' ohio']\n",
      "offspring has 5 unique values: \n",
      "        ['no kids, but wants' 'no info' 'not wanting kids' 'no kids' 'has kid(s)']\n",
      "orientation has 3 unique values: \n",
      "        ['straight' 'bisexual' 'gay']\n",
      "pets has 9 unique values: \n",
      "        ['likes cats and dogs' 'likes cats' 'no info'\n",
      " 'likes dogs and dislikes cats' 'likes dogs'\n",
      " 'likes cats and dislikes dogs' 'dislikes both cats and dogs'\n",
      " 'dislikes cats' 'dislikes dogs']\n",
      "religion has 10 unique values: \n",
      "        ['agnosticism' 'nan' 'atheism' 'christianity' 'other' 'catholicism'\n",
      " 'buddhism' 'judaism' 'hinduism' 'islam']\n",
      "sex has 2 unique values: \n",
      "        ['m' 'f']\n",
      "sign has 13 unique values: \n",
      "        ['gemini' 'cancer' 'pisces' 'aquarius' 'taurus' 'virgo' 'sagittarius'\n",
      " 'leo' 'nan' 'aries' 'libra' 'scorpio' 'capricorn']\n",
      "smokes has 5 unique values: \n",
      "        ['sometimes' 'never' 'no info' 'often' 'trying to quit']\n",
      "speaks has 5 unique values: \n",
      "        ['english' 'nan' 'afrikaans' 'french' 'portuguese']\n",
      "status has 4 unique values: \n",
      "        ['available' 'seeing someone' 'married' 'no info']\n",
      "###########SUMMARY##########\n",
      "{'body_type': 5, 'diet': 6, 'drinks': 6, 'drugs': 4, 'education': 6, 'ethnicity': 10, 'job': 21, 'location': 41, 'offspring': 5, 'orientation': 3, 'pets': 9, 'religion': 10, 'sex': 2, 'sign': 13, 'smokes': 5, 'speaks': 5, 'status': 4}\n"
     ]
    },
    {
     "data": {
      "image/png": "[encoded data removed]",
      "text/plain": [
       "<Figure size 1080x360 with 1 Axes>"
      ]
     },
     "metadata": {
      "needs_background": "light"
     },
     "output_type": "display_data"
    }
   ],
   "source": [
    "unique_dict = {}\n",
    "for i in data_file.columns:\n",
    "    if data_file[i].dtype == 'object':\n",
    "        uniques= data_file[i].unique()\n",
    "        nuniques= data_file[i].nunique()\n",
    "        unique_dict[i] = nuniques\n",
    "        print(f'''{i} has {nuniques} unique values: \n",
    "        {uniques}''')\n",
    "        \n",
    " \n",
    "        \n",
    "print('###########SUMMARY##########')\n",
    "print(unique_dict)\n",
    "\n",
    "unique_df = pd.DataFrame.from_dict(unique_dict, orient='index', dtype=None, columns=(['uniques']))\n",
    "unique_df.reset_index(inplace=True)\n",
    "unique_df = unique_df.rename(columns = {'index':'feature'})\n",
    "plt.figure(figsize=(15,5))\n",
    "sns.barplot(data=unique_df, x='feature',y='uniques', order=unique_df.sort_values('uniques', ascending=False).feature)\n",
    "plt.show()"
   ]
  },
  {
   "cell_type": "markdown",
   "metadata": {},
   "source": [
    "Checking for nans in all features of interest:"
   ]
  },
  {
   "cell_type": "code",
   "execution_count": 17,
   "metadata": {},
   "outputs": [
    {
     "name": "stdout",
     "output_type": "stream",
     "text": [
      "age nans: 0.0\n",
      "body_type nans: 0.0\n",
      "diet nans: 0.0\n",
      "drinks nans: 0.0\n",
      "drugs nans: 0.0\n",
      "education nans: 0.0\n",
      "ethnicity nans: 0.0\n",
      "height nans: 0.005\n",
      "income nans: 0.0\n",
      "job nans: 13.67564\n",
      "location nans: 0.0\n",
      "offspring nans: 0.0\n",
      "orientation nans: 0.0\n",
      "pets nans: 0.0\n",
      "religion nans: 0.0\n",
      "sex nans: 0.0\n",
      "sign nans: 0.0\n",
      "smokes nans: 0.0\n",
      "speaks nans: 0.0\n",
      "status nans: 0.0\n"
     ]
    }
   ],
   "source": [
    "for i in data_file.columns:\n",
    "    nans = np.round(data_file[i].isna().sum() / len(data_file) * 100, 5)\n",
    "    print(f'{i} nans: {nans}')"
   ]
  },
  {
   "cell_type": "code",
   "execution_count": 22,
   "metadata": {},
   "outputs": [],
   "source": [
    "# data.dropna(subset=['Height','Education'], #only looks at these two columns\n",
    "#             inplace=True, #removes the rows and keeps the data variable\n",
    "#             how='any') #removes data with missing data in either field\n",
    "data_file['height'] = data_file['height'].fillna('no info')\n",
    "data_file['job'] = data_file['job'].fillna('no info')"
   ]
  },
  {
   "cell_type": "markdown",
   "metadata": {},
   "source": [
    "### Data distribution and outliers"
   ]
  },
  {
   "cell_type": "code",
   "execution_count": 78,
   "metadata": {},
   "outputs": [
    {
     "name": "stdout",
     "output_type": "stream",
     "text": [
      "<class 'pandas.core.frame.DataFrame'>\n",
      "RangeIndex: 59946 entries, 0 to 59945\n",
      "Data columns (total 20 columns):\n",
      " #   Column       Non-Null Count  Dtype \n",
      "---  ------       --------------  ----- \n",
      " 0   age          59946 non-null  int64 \n",
      " 1   body_type    59946 non-null  object\n",
      " 2   diet         59946 non-null  object\n",
      " 3   drinks       59946 non-null  object\n",
      " 4   drugs        59946 non-null  object\n",
      " 5   education    59946 non-null  object\n",
      " 6   ethnicity    59946 non-null  object\n",
      " 7   height       59946 non-null  object\n",
      " 8   income       59946 non-null  int64 \n",
      " 9   job          59946 non-null  object\n",
      " 10  location     59946 non-null  object\n",
      " 11  offspring    59946 non-null  object\n",
      " 12  orientation  59946 non-null  object\n",
      " 13  pets         59946 non-null  object\n",
      " 14  religion     59946 non-null  object\n",
      " 15  sex          59946 non-null  object\n",
      " 16  sign         59946 non-null  object\n",
      " 17  smokes       59946 non-null  object\n",
      " 18  speaks       59946 non-null  object\n",
      " 19  status       59946 non-null  object\n",
      "dtypes: int64(2), object(18)\n",
      "memory usage: 9.1+ MB\n",
      "None\n",
      "body_type\n"
     ]
    },
    {
     "data": {
      "image/png": "[encoded data removed]",
      "text/plain": [
       "<Figure size 432x288 with 1 Axes>"
      ]
     },
     "metadata": {
      "needs_background": "light"
     },
     "output_type": "display_data"
    },
    {
     "name": "stdout",
     "output_type": "stream",
     "text": [
      "diet\n"
     ]
    },
    {
     "data": {
      "image/png": "[encoded data removed]",
      "text/plain": [
       "<Figure size 432x288 with 1 Axes>"
      ]
     },
     "metadata": {
      "needs_background": "light"
     },
     "output_type": "display_data"
    },
    {
     "name": "stdout",
     "output_type": "stream",
     "text": [
      "drinks\n"
     ]
    },
    {
     "data": {
      "image/png": "[encoded data removed]",
      "text/plain": [
       "<Figure size 432x288 with 1 Axes>"
      ]
     },
     "metadata": {
      "needs_background": "light"
     },
     "output_type": "display_data"
    },
    {
     "name": "stdout",
     "output_type": "stream",
     "text": [
      "drugs\n"
     ]
    },
    {
     "data": {
      "image/png": "[encoded data removed]",
      "text/plain": [
       "<Figure size 432x288 with 1 Axes>"
      ]
     },
     "metadata": {
      "needs_background": "light"
     },
     "output_type": "display_data"
    },
    {
     "name": "stdout",
     "output_type": "stream",
     "text": [
      "education\n"
     ]
    },
    {
     "data": {
      "image/png": "[encoded data removed]",
      "text/plain": [
       "<Figure size 432x288 with 1 Axes>"
      ]
     },
     "metadata": {
      "needs_background": "light"
     },
     "output_type": "display_data"
    },
    {
     "name": "stdout",
     "output_type": "stream",
     "text": [
      "ethnicity\n"
     ]
    },
    {
     "data": {
      "image/png": "[encoded data removed]",
      "text/plain": [
       "<Figure size 432x288 with 1 Axes>"
      ]
     },
     "metadata": {
      "needs_background": "light"
     },
     "output_type": "display_data"
    },
    {
     "name": "stdout",
     "output_type": "stream",
     "text": [
      "height\n"
     ]
    },
    {
     "ename": "TypeError",
     "evalue": "the dtypes of parameters x (object) and width (float64) are incompatible",
     "output_type": "error",
     "traceback": [
      "\u001b[1;31m---------------------------------------------------------------------------\u001b[0m",
      "\u001b[1;31mTypeError\u001b[0m                                 Traceback (most recent call last)",
      "\u001b[1;32m~\\miniconda3\\lib\\site-packages\\matplotlib\\axes\\_axes.py\u001b[0m in \u001b[0;36mbar\u001b[1;34m(self, x, height, width, bottom, align, **kwargs)\u001b[0m\n\u001b[0;32m   2372\u001b[0m                 \u001b[1;32mtry\u001b[0m\u001b[1;33m:\u001b[0m\u001b[1;33m\u001b[0m\u001b[1;33m\u001b[0m\u001b[0m\n\u001b[1;32m-> 2373\u001b[1;33m                     \u001b[0mleft\u001b[0m \u001b[1;33m=\u001b[0m \u001b[0mx\u001b[0m \u001b[1;33m-\u001b[0m \u001b[0mwidth\u001b[0m \u001b[1;33m/\u001b[0m \u001b[1;36m2\u001b[0m\u001b[1;33m\u001b[0m\u001b[1;33m\u001b[0m\u001b[0m\n\u001b[0m\u001b[0;32m   2374\u001b[0m                 \u001b[1;32mexcept\u001b[0m \u001b[0mTypeError\u001b[0m \u001b[1;32mas\u001b[0m \u001b[0me\u001b[0m\u001b[1;33m:\u001b[0m\u001b[1;33m\u001b[0m\u001b[1;33m\u001b[0m\u001b[0m\n",
      "\u001b[1;31mTypeError\u001b[0m: unsupported operand type(s) for -: 'str' and 'float'",
      "\nThe above exception was the direct cause of the following exception:\n",
      "\u001b[1;31mTypeError\u001b[0m                                 Traceback (most recent call last)",
      "\u001b[1;32m~\\AppData\\Local\\Temp/ipykernel_1360/3878649272.py\u001b[0m in \u001b[0;36m<module>\u001b[1;34m\u001b[0m\n\u001b[0;32m      7\u001b[0m         \u001b[0mvalues\u001b[0m \u001b[1;33m=\u001b[0m \u001b[0mcounts\u001b[0m\u001b[1;33m.\u001b[0m\u001b[0mindex\u001b[0m\u001b[1;33m\u001b[0m\u001b[1;33m\u001b[0m\u001b[0m\n\u001b[0;32m      8\u001b[0m         \u001b[0mperc\u001b[0m \u001b[1;33m=\u001b[0m \u001b[0mcounts\u001b[0m\u001b[1;33m.\u001b[0m\u001b[0mapply\u001b[0m\u001b[1;33m(\u001b[0m\u001b[1;32mlambda\u001b[0m \u001b[0mx\u001b[0m\u001b[1;33m:\u001b[0m \u001b[0mx\u001b[0m \u001b[1;33m/\u001b[0m \u001b[0mdata_file\u001b[0m\u001b[1;33m[\u001b[0m\u001b[0mi\u001b[0m\u001b[1;33m]\u001b[0m\u001b[1;33m.\u001b[0m\u001b[0mcount\u001b[0m\u001b[1;33m(\u001b[0m\u001b[1;33m)\u001b[0m \u001b[1;33m*\u001b[0m \u001b[1;36m100\u001b[0m\u001b[1;33m)\u001b[0m\u001b[1;33m\u001b[0m\u001b[1;33m\u001b[0m\u001b[0m\n\u001b[1;32m----> 9\u001b[1;33m         \u001b[0mbar_container\u001b[0m \u001b[1;33m=\u001b[0m \u001b[0max\u001b[0m\u001b[1;33m.\u001b[0m\u001b[0mbar\u001b[0m\u001b[1;33m(\u001b[0m\u001b[0mvalues\u001b[0m\u001b[1;33m,\u001b[0m \u001b[0mcounts\u001b[0m\u001b[1;33m)\u001b[0m\u001b[1;33m\u001b[0m\u001b[1;33m\u001b[0m\u001b[0m\n\u001b[0m\u001b[0;32m     10\u001b[0m         \u001b[0mbar_container2\u001b[0m \u001b[1;33m=\u001b[0m \u001b[0max\u001b[0m\u001b[1;33m.\u001b[0m\u001b[0mbar\u001b[0m\u001b[1;33m(\u001b[0m\u001b[0mvalues\u001b[0m\u001b[1;33m,\u001b[0m \u001b[0mperc\u001b[0m\u001b[1;33m)\u001b[0m\u001b[1;33m\u001b[0m\u001b[1;33m\u001b[0m\u001b[0m\n\u001b[0;32m     11\u001b[0m         \u001b[0max\u001b[0m\u001b[1;33m.\u001b[0m\u001b[0mset\u001b[0m\u001b[1;33m(\u001b[0m\u001b[0mylabel\u001b[0m\u001b[1;33m=\u001b[0m\u001b[1;34m'no. of entries'\u001b[0m\u001b[1;33m,\u001b[0m \u001b[0mtitle\u001b[0m\u001b[1;33m=\u001b[0m\u001b[1;34mf'{i} distribution'\u001b[0m\u001b[1;33m)\u001b[0m\u001b[1;33m\u001b[0m\u001b[1;33m\u001b[0m\u001b[0m\n",
      "\u001b[1;32m~\\miniconda3\\lib\\site-packages\\matplotlib\\__init__.py\u001b[0m in \u001b[0;36minner\u001b[1;34m(ax, data, *args, **kwargs)\u001b[0m\n\u001b[0;32m   1410\u001b[0m     \u001b[1;32mdef\u001b[0m \u001b[0minner\u001b[0m\u001b[1;33m(\u001b[0m\u001b[0max\u001b[0m\u001b[1;33m,\u001b[0m \u001b[1;33m*\u001b[0m\u001b[0margs\u001b[0m\u001b[1;33m,\u001b[0m \u001b[0mdata\u001b[0m\u001b[1;33m=\u001b[0m\u001b[1;32mNone\u001b[0m\u001b[1;33m,\u001b[0m \u001b[1;33m**\u001b[0m\u001b[0mkwargs\u001b[0m\u001b[1;33m)\u001b[0m\u001b[1;33m:\u001b[0m\u001b[1;33m\u001b[0m\u001b[1;33m\u001b[0m\u001b[0m\n\u001b[0;32m   1411\u001b[0m         \u001b[1;32mif\u001b[0m \u001b[0mdata\u001b[0m \u001b[1;32mis\u001b[0m \u001b[1;32mNone\u001b[0m\u001b[1;33m:\u001b[0m\u001b[1;33m\u001b[0m\u001b[1;33m\u001b[0m\u001b[0m\n\u001b[1;32m-> 1412\u001b[1;33m             \u001b[1;32mreturn\u001b[0m \u001b[0mfunc\u001b[0m\u001b[1;33m(\u001b[0m\u001b[0max\u001b[0m\u001b[1;33m,\u001b[0m \u001b[1;33m*\u001b[0m\u001b[0mmap\u001b[0m\u001b[1;33m(\u001b[0m\u001b[0msanitize_sequence\u001b[0m\u001b[1;33m,\u001b[0m \u001b[0margs\u001b[0m\u001b[1;33m)\u001b[0m\u001b[1;33m,\u001b[0m \u001b[1;33m**\u001b[0m\u001b[0mkwargs\u001b[0m\u001b[1;33m)\u001b[0m\u001b[1;33m\u001b[0m\u001b[1;33m\u001b[0m\u001b[0m\n\u001b[0m\u001b[0;32m   1413\u001b[0m \u001b[1;33m\u001b[0m\u001b[0m\n\u001b[0;32m   1414\u001b[0m         \u001b[0mbound\u001b[0m \u001b[1;33m=\u001b[0m \u001b[0mnew_sig\u001b[0m\u001b[1;33m.\u001b[0m\u001b[0mbind\u001b[0m\u001b[1;33m(\u001b[0m\u001b[0max\u001b[0m\u001b[1;33m,\u001b[0m \u001b[1;33m*\u001b[0m\u001b[0margs\u001b[0m\u001b[1;33m,\u001b[0m \u001b[1;33m**\u001b[0m\u001b[0mkwargs\u001b[0m\u001b[1;33m)\u001b[0m\u001b[1;33m\u001b[0m\u001b[1;33m\u001b[0m\u001b[0m\n",
      "\u001b[1;32m~\\miniconda3\\lib\\site-packages\\matplotlib\\axes\\_axes.py\u001b[0m in \u001b[0;36mbar\u001b[1;34m(self, x, height, width, bottom, align, **kwargs)\u001b[0m\n\u001b[0;32m   2373\u001b[0m                     \u001b[0mleft\u001b[0m \u001b[1;33m=\u001b[0m \u001b[0mx\u001b[0m \u001b[1;33m-\u001b[0m \u001b[0mwidth\u001b[0m \u001b[1;33m/\u001b[0m \u001b[1;36m2\u001b[0m\u001b[1;33m\u001b[0m\u001b[1;33m\u001b[0m\u001b[0m\n\u001b[0;32m   2374\u001b[0m                 \u001b[1;32mexcept\u001b[0m \u001b[0mTypeError\u001b[0m \u001b[1;32mas\u001b[0m \u001b[0me\u001b[0m\u001b[1;33m:\u001b[0m\u001b[1;33m\u001b[0m\u001b[1;33m\u001b[0m\u001b[0m\n\u001b[1;32m-> 2375\u001b[1;33m                     raise TypeError(f'the dtypes of parameters x ({x.dtype}) '\n\u001b[0m\u001b[0;32m   2376\u001b[0m                                     \u001b[1;34mf'and width ({width.dtype}) '\u001b[0m\u001b[1;33m\u001b[0m\u001b[1;33m\u001b[0m\u001b[0m\n\u001b[0;32m   2377\u001b[0m                                     f'are incompatible') from e\n",
      "\u001b[1;31mTypeError\u001b[0m: the dtypes of parameters x (object) and width (float64) are incompatible"
     ]
    },
    {
     "data": {
      "image/png": "[encoded data removed]",
      "text/plain": [
       "<Figure size 432x288 with 1 Axes>"
      ]
     },
     "metadata": {
      "needs_background": "light"
     },
     "output_type": "display_data"
    }
   ],
   "source": [
    "print(data_file.info())\n",
    "for i in data_file.columns:\n",
    "    if data_file[i].dtype == 'object':\n",
    "        print(i)\n",
    "        fig, ax = plt.subplots()\n",
    "        counts = data_file[i].value_counts()\n",
    "        values = counts.index\n",
    "        perc = counts.apply(lambda x: x / data_file[i].count() * 100)\n",
    "        bar_container = ax.bar(values, counts)\n",
    "        bar_container2 = ax.bar(values, perc)\n",
    "        ax.set(ylabel='no. of entries', title=f'{i} distribution')\n",
    "        ax.bar_label(bar_container2, fmt='%.2f%%')\n",
    "        plt.show()\n",
    "        plt.clf\n"
   ]
  },
  {
   "cell_type": "markdown",
   "metadata": {},
   "source": [
    "## DATA CORRELATION ANALYSIS"
   ]
  },
  {
   "cell_type": "markdown",
   "metadata": {},
   "source": [
    "# MACHINE LEARNING"
   ]
  },
  {
   "cell_type": "markdown",
   "metadata": {},
   "source": [
    "## FEATURE ENGINEERING"
   ]
  },
  {
   "cell_type": "markdown",
   "metadata": {},
   "source": [
    "## HYPERPARAMETER TUNING"
   ]
  },
  {
   "cell_type": "markdown",
   "metadata": {},
   "source": [
    "## MODELING AND EVALUATION"
   ]
  },
  {
   "cell_type": "markdown",
   "metadata": {},
   "source": [
    "# CONCLUSIONS"
   ]
  }
 ],
 "metadata": {
  "kernelspec": {
   "display_name": "Python 3 (ipykernel)",
   "language": "python",
   "name": "python3"
  },
  "language_info": {
   "codemirror_mode": {
    "name": "ipython",
    "version": 3
   },
   "file_extension": ".py",
   "mimetype": "text/x-python",
   "name": "python",
   "nbconvert_exporter": "python",
   "pygments_lexer": "ipython3",
   "version": "3.9.5"
  }
 },
 "nbformat": 4,
 "nbformat_minor": 4
}
